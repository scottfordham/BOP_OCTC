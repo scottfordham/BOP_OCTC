{
 "cells": [
  {
   "cell_type": "code",
   "execution_count": 2,
   "id": "b751f1b1",
   "metadata": {},
   "outputs": [
    {
     "name": "stdout",
     "output_type": "stream",
     "text": [
      "Done cropping AW120 folder.\n"
     ]
    }
   ],
   "source": [
    "import os\n",
    "from PIL import Image, ImageOps\n",
    "\n",
    "# --- USER INPUTS ---\n",
    "IN_DIR  = r\"./Nikon COOLPIX AW120\"   # your input folder\n",
    "OUT_DIR = r\"./Cropped/Nikon COOLPIX AW120\"    # choose where you want cropped images saved\n",
    "H_M     = 2.0\n",
    "F_MM    = 4.3\n",
    "SENSOR_W_MM = 6.17\n",
    "SENSOR_H_MM = 4.55\n",
    "TARGET_GROUND_M = 1.0\n",
    "USE_CONSERVATIVE = False\n",
    "\n",
    "os.makedirs(OUT_DIR, exist_ok=True)\n",
    "\n",
    "def compute_px_per_meter(img_w, img_h):\n",
    "    ground_w_m = H_M * (SENSOR_W_MM / F_MM)\n",
    "    ground_h_m = H_M * (SENSOR_H_MM / F_MM)\n",
    "    px_per_m_x = img_w / ground_w_m\n",
    "    px_per_m_y = img_h / ground_h_m\n",
    "    if USE_CONSERVATIVE:\n",
    "        return min(px_per_m_x, px_per_m_y)\n",
    "    else:\n",
    "        return 0.5 * (px_per_m_x + px_per_m_y)\n",
    "\n",
    "def center_crop(im, crop_px):\n",
    "    w, h = im.size\n",
    "    cx, cy = w // 2, h // 2\n",
    "    half = crop_px // 2\n",
    "    return im.crop((cx - half, cy - half, cx + half, cy + half))\n",
    "\n",
    "for fname in os.listdir(IN_DIR):\n",
    "    if not fname.lower().endswith((\".jpg\", \".jpeg\")):\n",
    "        continue\n",
    "    in_path = os.path.join(IN_DIR, fname)\n",
    "    with Image.open(in_path) as im_raw:\n",
    "        im = ImageOps.exif_transpose(im_raw)\n",
    "        w, h = im.size\n",
    "\n",
    "        px_per_m = compute_px_per_meter(w, h)\n",
    "        crop_px = int(round(px_per_m * TARGET_GROUND_M))\n",
    "        crop_px = min(crop_px, w, h)\n",
    "\n",
    "        cropped = center_crop(im, crop_px)\n",
    "\n",
    "        # filename: add \"_c\" before extension\n",
    "        base, ext = os.path.splitext(fname)\n",
    "        out_name = f\"{base}_c{ext.lower()}\"\n",
    "        out_path = os.path.join(OUT_DIR, out_name)\n",
    "\n",
    "        cropped.save(out_path, quality=95, subsampling=1, optimize=True)\n",
    "\n",
    "print(\"Done cropping AW120 folder.\")\n"
   ]
  }
 ],
 "metadata": {
  "kernelspec": {
   "display_name": "Python 3",
   "language": "python",
   "name": "python3"
  },
  "language_info": {
   "codemirror_mode": {
    "name": "ipython",
    "version": 3
   },
   "file_extension": ".py",
   "mimetype": "text/x-python",
   "name": "python",
   "nbconvert_exporter": "python",
   "pygments_lexer": "ipython3",
   "version": "3.12.1"
  }
 },
 "nbformat": 4,
 "nbformat_minor": 5
}
